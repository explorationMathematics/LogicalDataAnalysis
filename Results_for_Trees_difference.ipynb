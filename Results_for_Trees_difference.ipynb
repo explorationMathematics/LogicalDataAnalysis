{
 "cells": [
  {
   "cell_type": "markdown",
   "id": "17119bdc",
   "metadata": {},
   "source": [
    "# Man benötigt das Oscar-Paket, um Algebra machen zu können. Das Laden dauert einige Zeit. "
   ]
  },
  {
   "cell_type": "code",
   "execution_count": 1,
   "id": "b3c29bba",
   "metadata": {},
   "outputs": [
    {
     "name": "stderr",
     "output_type": "stream",
     "text": [
      "\u001b[32m\u001b[1m    Updating\u001b[22m\u001b[39m registry at `/scratch/htc/bzfweber/.julia/registries/General.toml`\n",
      "\u001b[32m\u001b[1m   Resolving\u001b[22m\u001b[39m package versions...\n",
      "\u001b[32m\u001b[1m  No Changes\u001b[22m\u001b[39m to `/scratch/htc/bzfweber/.julia/environments/v1.8/Project.toml`\n",
      "\u001b[32m\u001b[1m  No Changes\u001b[22m\u001b[39m to `/scratch/htc/bzfweber/.julia/environments/v1.8/Manifest.toml`\n",
      "\u001b[32m\u001b[1m   Resolving\u001b[22m\u001b[39m package versions...\n",
      "\u001b[32m\u001b[1m  No Changes\u001b[22m\u001b[39m to `/scratch/htc/bzfweber/.julia/environments/v1.8/Project.toml`\n",
      "\u001b[32m\u001b[1m  No Changes\u001b[22m\u001b[39m to `/scratch/htc/bzfweber/.julia/environments/v1.8/Manifest.toml`\n"
     ]
    },
    {
     "name": "stdout",
     "output_type": "stream",
     "text": [
      " -----    -----    -----      -      -----   \n",
      "|     |  |     |  |     |    | |    |     |  \n",
      "|     |  |        |         |   |   |     |  \n",
      "|     |   -----   |        |     |  |-----   \n",
      "|     |        |  |        |-----|  |   |    \n",
      "|     |  |     |  |     |  |     |  |    |   \n",
      " -----    -----    -----   -     -  -     -  \n",
      "\n",
      "...combining (and extending) ANTIC, GAP, Polymake and Singular\n",
      "Version\u001b[32m 0.11.2 \u001b[39m... \n",
      " ... which comes with absolutely no warranty whatsoever\n",
      "Type: '?Oscar' for more information\n",
      "(c) 2019-2022 by The OSCAR Development Team\n"
     ]
    }
   ],
   "source": [
    "using Pkg\n",
    "Pkg.add(\"XLSX\")\n",
    "Pkg.add(\"Oscar\")\n",
    "import XLSX\n",
    "using Oscar"
   ]
  },
  {
   "cell_type": "markdown",
   "id": "a9b5a1b1",
   "metadata": {},
   "source": [
    "# Hier wird der Polynomring konstruiert, der die Eigenschaften ((w)et, (a)cidic, (n)eutral, (v)ery cold, (c)old und (g)rowing) der Beobachtungen zu \"Auswahl-Statements\" verknüpft. "
   ]
  },
  {
   "cell_type": "code",
   "execution_count": 2,
   "id": "ade8e6f6",
   "metadata": {},
   "outputs": [],
   "source": [
    "R1 = ResidueRing(ZZ, 2);\n",
    "myR, (w,a,n,v,c,g) = PolynomialRing(R1, [\"w\", \"a\", \"n\", \"v\", \"c\", \"g\"]);\n",
    "myvars=[w,a,n,v,c,g];"
   ]
  },
  {
   "cell_type": "markdown",
   "id": "527c20d0",
   "metadata": {},
   "source": [
    "# Die 18 Einzel-Beobachtungen, unter welchen Bedingungen der Baum wächst werden eingelesen. "
   ]
  },
  {
   "cell_type": "code",
   "execution_count": 3,
   "id": "8b3b28e6",
   "metadata": {},
   "outputs": [],
   "source": [
    "chartable=XLSX.readdata(\"growingTree.xlsx\", \"Sheet1\", \"A2:F19\");\n",
    "indices=1:18;"
   ]
  },
  {
   "cell_type": "markdown",
   "id": "377a4aa8",
   "metadata": {},
   "source": [
    "# Anzahl der Eigenschaften und Auswahl der Eigenschaften"
   ]
  },
  {
   "cell_type": "code",
   "execution_count": 4,
   "id": "8ddfe1dc",
   "metadata": {},
   "outputs": [],
   "source": [
    "varnum=6; choice=1:6; "
   ]
  },
  {
   "cell_type": "markdown",
   "id": "5f09ca4e",
   "metadata": {},
   "source": [
    "# Jede einzelne Beobachtung wird in ein Polynom übersetzt, das genau dem \"Auswahl-Statement\" entspricht, das diese Beobachtung aus allen herausselektiert. "
   ]
  },
  {
   "cell_type": "code",
   "execution_count": 5,
   "id": "5e656afc",
   "metadata": {},
   "outputs": [],
   "source": [
    "chartable=chartable[:,choice];\n",
    "expr_list=prod(myvars+ myvars.^0 -chartable[1,:]); \n",
    "for i=2:size(chartable,1)\n",
    "    expr_list=vcat(expr_list, prod(myvars+ myvars.^0 -chartable[i,:])); \n",
    "end"
   ]
  },
  {
   "cell_type": "markdown",
   "id": "9e03da64",
   "metadata": {},
   "source": [
    "# Die Eigenschaften bekommen ein Gewicht, das mit der ausgeglichenen Häufigkeit des Auftretens des Merkmals korreliert. "
   ]
  },
  {
   "cell_type": "code",
   "execution_count": 6,
   "id": "e48dbe56",
   "metadata": {},
   "outputs": [
    {
     "name": "stdout",
     "output_type": "stream",
     "text": [
      "w true=9 false=9\n",
      "a true=6 false=12\n",
      "n true=6 false=12\n",
      "v true=6 false=12\n",
      "c true=12 false=6\n",
      "g true=10 false=8\n"
     ]
    }
   ],
   "source": [
    "monweight=ones(Int,varnum);\n",
    "for i=1:size(myvars,1)\n",
    "    print(myvars[i]);\n",
    "    print(\" true=\");\n",
    "    print(sum(chartable[:,i]));\n",
    "    print(\" false=\");\n",
    "    print(size(chartable,1)-sum(chartable[:,i]));\n",
    "    print(\"\\n\");\n",
    "    monweight[i]=sum(chartable[:,i])*(size(chartable,1)-sum(chartable[:,i]));\n",
    "end"
   ]
  },
  {
   "cell_type": "markdown",
   "id": "e5fcfba7",
   "metadata": {},
   "source": [
    "# Die Menge der Nicht-Beobachtungen wird als Ideal generiert. Zudem wird die Idempotenz der Eigenschaften beachtet. Die Gröbnerbasis dieses Ideals wird berechnet und gibt eine Basis aller logischen Regeln wider, die in den Daten stecken.  "
   ]
  },
  {
   "cell_type": "code",
   "execution_count": 7,
   "id": "3cf0a7c7",
   "metadata": {},
   "outputs": [],
   "source": [
    "uq_expr_list=unique(expr_list);\n",
    "expr=sum(uq_expr_list)+1;\n",
    "generator=myvars.^2+myvars;"
   ]
  },
  {
   "cell_type": "code",
   "execution_count": 8,
   "id": "329b8d8a",
   "metadata": {},
   "outputs": [
    {
     "data": {
      "text/plain": [
       "Gröbner basis with elements\n",
       "1 -> c^2 + c\n",
       "2 -> v*c + v\n",
       "3 -> v^2 + v\n",
       "4 -> n^2 + n\n",
       "5 -> a*n\n",
       "6 -> a^2 + a\n",
       "7 -> w*v + w*c + v*g + c*g + v + c\n",
       "8 -> w*n + n*g + n*c\n",
       "9 -> g^2 + g\n",
       "10 -> w*g + w*c + w\n",
       "11 -> w^2 + w\n",
       "12 -> n*c*g + n*g + c*g + n*c + g + n + c + 1\n",
       "13 -> a*c*g + a*g + a*c + a\n",
       "14 -> a*v*g\n",
       "15 -> w*a*c + a*v*g + w*c + a*g + c*g + a + c\n",
       "with respect to the ordering\n",
       "wdeglex([w, a, n, v, c, g], [81, 72, 72, 72, 72, 80])"
      ]
     },
     "execution_count": 8,
     "metadata": {},
     "output_type": "execute_result"
    }
   ],
   "source": [
    "II1=ideal(myR, vcat(generator, expr));\n",
    "Y1, m1 = quo(myR, II1);\n",
    "GB1 = groebner_basis(II1, ordering = wdeglex(gens(myR),monweight))"
   ]
  },
  {
   "cell_type": "markdown",
   "id": "69bc8559",
   "metadata": {},
   "source": [
    "# Einen Teil dieser Regeln haben wir bereits erwartet. Wir sammeln die Nicht-Beobachtungen, die wir erwartet hätten. Draus wird wieder ein Ideal gemacht und eine Gröbner-Basis. "
   ]
  },
  {
   "cell_type": "code",
   "execution_count": 9,
   "id": "225bc754",
   "metadata": {},
   "outputs": [],
   "source": [
    "expr2 = [v*(1+c), a*n];"
   ]
  },
  {
   "cell_type": "code",
   "execution_count": 10,
   "id": "a744b90d",
   "metadata": {},
   "outputs": [],
   "source": [
    "II2=ideal(myR, vcat(generator, expr2));\n",
    "Y2, m2 = quo(myR, II2);\n",
    "GB2 = groebner_basis(II2, ordering=wdeglex(gens(myR), monweight));"
   ]
  },
  {
   "cell_type": "markdown",
   "id": "ca414e4f",
   "metadata": {},
   "source": [
    "# Die erwarteten und die gefunden Regeln werden zu einem Gesamtideal vereint. Wieder mit Gröbner-Basis. "
   ]
  },
  {
   "cell_type": "code",
   "execution_count": 11,
   "id": "e4ec191f",
   "metadata": {},
   "outputs": [],
   "source": [
    "II3=ideal(myR, vcat(generator, expr, expr2));\n",
    "Y3, m3 = quo(myR, II3);\n",
    "GB3 = groebner_basis(II3, ordering=wdeglex(gens(myR), monweight));"
   ]
  },
  {
   "cell_type": "markdown",
   "id": "5afdb429",
   "metadata": {},
   "source": [
    "# Zu jeder Beobachtung wird (durch Division mit Reste bezüglich des Gesamtideals) festgestellt, welche Regel zusätzlich entstehen würde, würde man die spezielle Bobachtung streichen. (Das beschreibt die Besonderheit der entsprechenden Beobachtung)"
   ]
  },
  {
   "cell_type": "code",
   "execution_count": 12,
   "id": "61beb4d5",
   "metadata": {},
   "outputs": [
    {
     "name": "stdout",
     "output_type": "stream",
     "text": [
      "\u001b[31m1\u001b[39m \u001b[31m (#\u001b[39m\u001b[31m1\u001b[39m\u001b[31m)\u001b[39m\n",
      "\u001b[32m1 * g * (c + 1) * (v + 1) * (n + 1) * (a + 1) * (w + 1)\u001b[39m\n",
      "\u001b[0m\u001b[1mw*a*g + w*g + a*c + a + c*g + g\u001b[22m\n",
      "\n",
      "\u001b[31m2\u001b[39m \u001b[31m (#\u001b[39m\u001b[31m1\u001b[39m\u001b[31m)\u001b[39m\n",
      "\u001b[32m1 * c * g * (v + 1) * (n + 1) * (a + 1) * (w + 1)\u001b[39m\n",
      "\u001b[0m\u001b[1ma*c + a*g + a + n*v*g + n*c + n*g + n + v*g + c + g + 1\u001b[22m\n",
      "\n",
      "\u001b[31m3\u001b[39m \u001b[31m (#\u001b[39m\u001b[31m1\u001b[39m\u001b[31m)\u001b[39m\n",
      "\u001b[32m1 * v * c * g * (n + 1) * (a + 1) * (w + 1)\u001b[39m\n",
      "\u001b[0m\u001b[1mn*v*g + v*g\u001b[22m\n",
      "\n",
      "\u001b[31m4\u001b[39m \u001b[31m (#\u001b[39m\u001b[31m1\u001b[39m\u001b[31m)\u001b[39m\n",
      "\u001b[32m1 * n * (g + 1) * (c + 1) * (v + 1) * (a + 1) * (w + 1)\u001b[39m\n",
      "\u001b[0m\u001b[1mc*g + c + g + 1\u001b[22m\n",
      "\n",
      "\u001b[31m5\u001b[39m \u001b[31m (#\u001b[39m\u001b[31m1\u001b[39m\u001b[31m)\u001b[39m\n",
      "\u001b[32m1 * n * c * g * (v + 1) * (a + 1) * (w + 1)\u001b[39m\n",
      "\u001b[0m\u001b[1mn*v*g + n*c + n*g + n + c*g + c + g + 1\u001b[22m\n",
      "\n",
      "\u001b[31m6\u001b[39m \u001b[31m (#\u001b[39m\u001b[31m1\u001b[39m\u001b[31m)\u001b[39m\n",
      "\u001b[32m1 * n * v * c * g * (a + 1) * (w + 1)\u001b[39m\n",
      "\u001b[0m\u001b[1mn*v*g\u001b[22m\n",
      "\n",
      "\u001b[31m7\u001b[39m \u001b[31m (#\u001b[39m\u001b[31m1\u001b[39m\u001b[31m)\u001b[39m\n",
      "\u001b[32m1 * a * g * (c + 1) * (v + 1) * (n + 1) * (w + 1)\u001b[39m\n",
      "\u001b[0m\u001b[1mw*a*g + a*c + a\u001b[22m\n",
      "\n",
      "\u001b[31m8\u001b[39m \u001b[31m (#\u001b[39m\u001b[31m1\u001b[39m\u001b[31m)\u001b[39m\n",
      "\u001b[32m1 * a * c * g * (v + 1) * (n + 1) * (w + 1)\u001b[39m\n",
      "\u001b[0m\u001b[1ma*c + a*g + a\u001b[22m\n",
      "\n",
      "\u001b[31m9\u001b[39m \u001b[31m (#\u001b[39m\u001b[31m1\u001b[39m\u001b[31m)\u001b[39m\n",
      "\u001b[32m1 * a * v * c * (g + 1) * (n + 1) * (w + 1)\u001b[39m\n",
      "\u001b[0m\u001b[1mw*a*g + w*a + a*g + a\u001b[22m\n",
      "\n",
      "\u001b[31m10\u001b[39m \u001b[31m (#\u001b[39m\u001b[31m1\u001b[39m\u001b[31m)\u001b[39m\n",
      "\u001b[32m1 * w * g * (c + 1) * (v + 1) * (n + 1) * (a + 1)\u001b[39m\n",
      "\u001b[0m\u001b[1mw*a*g + w*g + n*c + n + c*g + c + g + 1\u001b[22m\n",
      "\n",
      "\u001b[31m11\u001b[39m \u001b[31m (#\u001b[39m\u001b[31m1\u001b[39m\u001b[31m)\u001b[39m\n",
      "\u001b[32m1 * w * c * (g + 1) * (v + 1) * (n + 1) * (a + 1)\u001b[39m\n",
      "\u001b[0m\u001b[1ma*v + a*g + a + n*v*g + n*v + n*g + n + v*g + v + g + 1\u001b[22m\n",
      "\n",
      "\u001b[31m12\u001b[39m \u001b[31m (#\u001b[39m\u001b[31m1\u001b[39m\u001b[31m)\u001b[39m\n",
      "\u001b[32m1 * w * v * c * (g + 1) * (n + 1) * (a + 1)\u001b[39m\n",
      "\u001b[0m\u001b[1mw*a*g + w*a + w*g + w + a*v + a*g + a + n*v*g + n*v + v*g + v + c*g + c\u001b[22m\n",
      "\n",
      "\u001b[31m13\u001b[39m \u001b[31m (#\u001b[39m\u001b[31m1\u001b[39m\u001b[31m)\u001b[39m\n",
      "\u001b[32m1 * w * n * g * (c + 1) * (v + 1) * (a + 1)\u001b[39m\n",
      "\u001b[0m\u001b[1mn*c + n + c*g + c + g + 1\u001b[22m\n",
      "\n",
      "\u001b[31m14\u001b[39m \u001b[31m (#\u001b[39m\u001b[31m1\u001b[39m\u001b[31m)\u001b[39m\n",
      "\u001b[32m1 * w * n * c * (g + 1) * (v + 1) * (a + 1)\u001b[39m\n",
      "\u001b[0m\u001b[1mn*v*g + n*v + n*g + n + c*g + c + g + 1\u001b[22m\n",
      "\n",
      "\u001b[31m15\u001b[39m \u001b[31m (#\u001b[39m\u001b[31m1\u001b[39m\u001b[31m)\u001b[39m\n",
      "\u001b[32m1 * w * n * v * c * (g + 1) * (a + 1)\u001b[39m\n",
      "\u001b[0m\u001b[1mn*v*g + n*v\u001b[22m\n",
      "\n",
      "\u001b[31m16\u001b[39m \u001b[31m (#\u001b[39m\u001b[31m1\u001b[39m\u001b[31m)\u001b[39m\n",
      "\u001b[32m1 * w * a * g * (c + 1) * (v + 1) * (n + 1)\u001b[39m\n",
      "\u001b[0m\u001b[1mw*a*g\u001b[22m\n",
      "\n",
      "\u001b[31m17\u001b[39m \u001b[31m (#\u001b[39m\u001b[31m1\u001b[39m\u001b[31m)\u001b[39m\n",
      "\u001b[32m1 * w * a * c * (g + 1) * (v + 1) * (n + 1)\u001b[39m\n",
      "\u001b[0m\u001b[1ma*v + a*g + a\u001b[22m\n",
      "\n",
      "\u001b[31m18\u001b[39m \u001b[31m (#\u001b[39m\u001b[31m1\u001b[39m\u001b[31m)\u001b[39m\n",
      "\u001b[32m1 * w * a * v * c * (g + 1) * (n + 1)\u001b[39m\n",
      "\u001b[0m\u001b[1mw*a*g + w*a + a*v + a*g + a\u001b[22m\n",
      "\n"
     ]
    }
   ],
   "source": [
    "for i = 1:size(uq_expr_list,1)\n",
    "    res=normal_form(uq_expr_list[i],gens(GB3));\n",
    "    counter=0;\n",
    "    for j = 1:size(expr_list,1)\n",
    "        if (uq_expr_list[i]==expr_list[j])\n",
    "            counter=counter+1;\n",
    "            printstyled(indices[j], color=:red);\n",
    "            print(\" \");\n",
    "        end\n",
    "    end\n",
    "    printstyled(\" (#\", color=:red);\n",
    "    printstyled(counter, color=:red);\n",
    "    printstyled(\")\", color=:red);\n",
    "    print(\"\\n\");\n",
    "    printstyled(factor(uq_expr_list[i]), color=:green);\n",
    "    wrtnorm=0;\n",
    "    if (wrtnorm==1)\n",
    "        printstyled(\"=\\n\", color=:green);\n",
    "        printstyled(uq_expr_list[i], color=:green);\n",
    "    end\n",
    "    print(\"\\n\");\n",
    "    printstyled(res, bold=:true);\n",
    "    print(\"\\n\\n\");\n",
    "end"
   ]
  },
  {
   "cell_type": "markdown",
   "id": "16291ad5",
   "metadata": {},
   "source": [
    "# Wieder Division mit Rest: Es wird geschaut, welche Regeln aus den Beobachtungen übrig bleiben, wenn man die Erwartungen \"rauskürzt\". "
   ]
  },
  {
   "cell_type": "code",
   "execution_count": 13,
   "id": "38222fa1",
   "metadata": {},
   "outputs": [
    {
     "name": "stdout",
     "output_type": "stream",
     "text": [
      "7 -> w*v + w*c + v*g + v + c*g + c\n",
      "8 -> w*n + n*c + n*g\n",
      "10 -> w*c + w*g + w\n",
      "12 -> n*c*g + n*c + n*g + n + c*g + c + g + 1\n",
      "13 -> a*c*g + a*c + a*g + a\n",
      "14 -> a*v*g\n",
      "15 -> w*a*c + w*c + a*v*g + a*g + a + c*g + c\n"
     ]
    }
   ],
   "source": [
    "for i=1:length(GB1) \n",
    "    nf=normal_form(GB1[i], gens(GB2));\n",
    "    if (nf!=0)\n",
    "        print(i); print(\" -> \"); \n",
    "        print(nf);\n",
    "        print(\"\\n\");\n",
    "    end\n",
    "end"
   ]
  },
  {
   "cell_type": "code",
   "execution_count": null,
   "id": "18e5bfad",
   "metadata": {},
   "outputs": [],
   "source": []
  }
 ],
 "metadata": {
  "kernelspec": {
   "display_name": "Julia 1.8.5",
   "language": "julia",
   "name": "julia-1.8"
  },
  "language_info": {
   "file_extension": ".jl",
   "mimetype": "application/julia",
   "name": "julia",
   "version": "1.8.5"
  }
 },
 "nbformat": 4,
 "nbformat_minor": 5
}
